{
 "cells": [
  {
   "cell_type": "code",
   "execution_count": 4,
   "metadata": {},
   "outputs": [
    {
     "data": {
      "text/plain": [
       "neighborhood\n",
       "Regent Square          16729.000000\n",
       "Crafton Heights        11500.000000\n",
       "North Shore            10350.000000\n",
       "Strip District          9691.666667\n",
       "East Hills              8126.500000\n",
       "                           ...     \n",
       "South Oakland                   NaN\n",
       "South Shore                     NaN\n",
       "Swisshelm Park                  NaN\n",
       "Troy Hill                       NaN\n",
       "Upper Lawrenceville             NaN\n",
       "Name: average_daily_car_traffic, Length: 74, dtype: float64"
      ]
     },
     "execution_count": 4,
     "metadata": {},
     "output_type": "execute_result"
    }
   ],
   "source": [
    "import pandas as pd\n",
    "traffic = pd.read_csv(\"traffic_count.csv\")\n",
    "car_counts = traffic.groupby(\"neighborhood\").mean()['average_daily_car_traffic']\n",
    "car_counts.sort_values(ascending=False)"
   ]
  },
  {
   "cell_type": "markdown",
   "metadata": {},
   "source": [
    "Add the generic bar graph"
   ]
  },
  {
   "cell_type": "code",
   "execution_count": null,
   "metadata": {},
   "outputs": [],
   "source": []
  }
 ],
 "metadata": {
  "kernelspec": {
   "display_name": "Python 3",
   "language": "python",
   "name": "python3"
  },
  "language_info": {
   "codemirror_mode": {
    "name": "ipython",
    "version": 3
   },
   "file_extension": ".py",
   "mimetype": "text/x-python",
   "name": "python",
   "nbconvert_exporter": "python",
   "pygments_lexer": "ipython3",
   "version": "3.8.3"
  }
 },
 "nbformat": 4,
 "nbformat_minor": 4
}
