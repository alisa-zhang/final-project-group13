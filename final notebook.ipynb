{
 "cells": [
  {
   "cell_type": "markdown",
   "metadata": {},
   "source": [
    "__Introduction:__ The goal of this project was to define the best neighborhood in Pittsburgh supported by evidence frome datasets that came from the https://data.wprdc.org/dataset/ (WPRDC). The metric we are using to define the \"best\" is the residents wellbeing. We decided on this based on each dataset that was chosen and came to a consensus that would best be supported based on each of our datasets. Other choices we explored included: safety, features/activities, facilities, poverty, and environmental factors."
   ]
  },
  {
   "cell_type": "markdown",
   "metadata": {},
   "source": [
    "__The metric:__ Our overall metric is the quality of the residents wellbeing. So for example, promotion of good health, pollution, and walkability are all factors we focused on when choosing the best. The submetrics/ datasets we used are the amount of parks in Pittsburgh Neighborhoods, the amount of steps in Pittsbirgh neighborhood, and number of cars in Pittsbirgh neighborhood."
   ]
  },
  {
   "cell_type": "markdown",
   "metadata": {},
   "source": [
    "__conclusions:__"
   ]
  },
  {
   "cell_type": "markdown",
   "metadata": {},
   "source": [
    "*JJ-* Based off the datasets used to define the \"best neighborhood\" I can conclude that the beechview is the best nieghborhood in Pittsburgh. In the steps dataset it exceeded most nieghborhoods with the amount of steps coming in 2nd place for the best neighborhood in that submetric. While it also wasnt that best neighborhood in the other two submetrics it was still considered to be in the top. For example, in my parks submetric it was in 3rd place with 8 parks which is still a pretty high number of parks considering in some neighborhoods it went as low as 1 park. Lastly, for the car submetric it was pretty low in average for daily car traffic. To conclude, Beechview is a great neighborhood that promotes good health and the wellbeing of residents with high amount of steps and parks which is good for an active lifestyle and low amount of cars. While, Beechview didn't necessarily win best in any of the submetrics looking at the overall placement in each submetric it was consistently in the top which is why I say it is the best."
   ]
  },
  {
   "cell_type": "code",
   "execution_count": null,
   "metadata": {},
   "outputs": [],
   "source": []
  }
 ],
 "metadata": {
  "kernelspec": {
   "display_name": "Python 3",
   "language": "python",
   "name": "python3"
  },
  "language_info": {
   "codemirror_mode": {
    "name": "ipython",
    "version": 3
   },
   "file_extension": ".py",
   "mimetype": "text/x-python",
   "name": "python",
   "nbconvert_exporter": "python",
   "pygments_lexer": "ipython3",
   "version": "3.8.3"
  }
 },
 "nbformat": 4,
 "nbformat_minor": 4
}
