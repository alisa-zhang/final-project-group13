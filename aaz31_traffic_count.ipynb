import pandas as pd
traffic = pd.read_csv("traffic.csv")
